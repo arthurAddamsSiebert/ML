{
 "cells": [
  {
   "cell_type": "code",
   "execution_count": 1,
   "id": "c98b39e5",
   "metadata": {},
   "outputs": [],
   "source": [
    "import pandas as pd\n",
    "\n",
    "# !pip install matplotlib\n",
    "import matplotlib.pyplot as plt"
   ]
  },
  {
   "cell_type": "markdown",
   "id": "883cad86",
   "metadata": {},
   "source": [
    "# Arthur Ratings"
   ]
  },
  {
   "cell_type": "code",
   "execution_count": 2,
   "id": "eafcf997",
   "metadata": {},
   "outputs": [
    {
     "name": "stdout",
     "output_type": "stream",
     "text": [
      "Searched Movie: Spirited Away\n"
     ]
    },
    {
     "data": {
      "text/html": [
       "<div>\n",
       "<style scoped>\n",
       "    .dataframe tbody tr th:only-of-type {\n",
       "        vertical-align: middle;\n",
       "    }\n",
       "\n",
       "    .dataframe tbody tr th {\n",
       "        vertical-align: top;\n",
       "    }\n",
       "\n",
       "    .dataframe thead th {\n",
       "        text-align: right;\n",
       "    }\n",
       "</style>\n",
       "<table border=\"1\" class=\"dataframe\">\n",
       "  <thead>\n",
       "    <tr style=\"text-align: right;\">\n",
       "      <th></th>\n",
       "      <th>Recommendation</th>\n",
       "      <th>Rating</th>\n",
       "    </tr>\n",
       "  </thead>\n",
       "  <tbody>\n",
       "    <tr>\n",
       "      <th>0</th>\n",
       "      <td>How's Moving Castle</td>\n",
       "      <td>Top</td>\n",
       "    </tr>\n",
       "    <tr>\n",
       "      <th>1</th>\n",
       "      <td>Pokémon Origins</td>\n",
       "      <td>Not Interesting</td>\n",
       "    </tr>\n",
       "    <tr>\n",
       "      <th>2</th>\n",
       "      <td>Hamtaro: The Captive Princess</td>\n",
       "      <td>Interesting</td>\n",
       "    </tr>\n",
       "    <tr>\n",
       "      <th>3</th>\n",
       "      <td>Puff, The Magic Dragon</td>\n",
       "      <td>Not Interesting</td>\n",
       "    </tr>\n",
       "    <tr>\n",
       "      <th>4</th>\n",
       "      <td>Sain Seiya Heaven Chapter: Overture</td>\n",
       "      <td>Interesting</td>\n",
       "    </tr>\n",
       "    <tr>\n",
       "      <th>5</th>\n",
       "      <td>Tales from Earthsea</td>\n",
       "      <td>Interesting</td>\n",
       "    </tr>\n",
       "    <tr>\n",
       "      <th>6</th>\n",
       "      <td>The King's Beard</td>\n",
       "      <td>Not Interesting</td>\n",
       "    </tr>\n",
       "    <tr>\n",
       "      <th>7</th>\n",
       "      <td>Tom Sawyer</td>\n",
       "      <td>Not Interesting</td>\n",
       "    </tr>\n",
       "    <tr>\n",
       "      <th>8</th>\n",
       "      <td>Children Who Chase Lost Voices</td>\n",
       "      <td>Interesting</td>\n",
       "    </tr>\n",
       "  </tbody>\n",
       "</table>\n",
       "</div>"
      ],
      "text/plain": [
       "                        Recommendation           Rating\n",
       "0                  How's Moving Castle              Top\n",
       "1                      Pokémon Origins  Not Interesting\n",
       "2        Hamtaro: The Captive Princess      Interesting\n",
       "3               Puff, The Magic Dragon  Not Interesting\n",
       "4  Sain Seiya Heaven Chapter: Overture      Interesting\n",
       "5                  Tales from Earthsea      Interesting\n",
       "6                     The King's Beard  Not Interesting\n",
       "7                           Tom Sawyer  Not Interesting\n",
       "8       Children Who Chase Lost Voices      Interesting"
      ]
     },
     "execution_count": 2,
     "metadata": {},
     "output_type": "execute_result"
    }
   ],
   "source": [
    "# which movie did you search for\n",
    "print(\"Searched Movie: Spirited Away\")\n",
    "\n",
    "# initialize data\n",
    "data = [['How\\'s Moving Castle', 'Top'], ['Pokémon Origins', 'Not Interesting'], ['Hamtaro: The Captive Princess', 'Interesting'], ['Puff, The Magic Dragon', 'Not Interesting'], ['Sain Seiya Heaven Chapter: Overture', 'Interesting'], ['Tales from Earthsea', 'Interesting'], ['The King\\'s Beard', 'Not Interesting'], ['Tom Sawyer', 'Not Interesting'], ['Children Who Chase Lost Voices', 'Interesting']]\n",
    "  \n",
    "# create dataframe\n",
    "df = pd.DataFrame(data, columns = ['Recommendation', 'Rating'])\n",
    "  \n",
    "# print dataframe\n",
    "df"
   ]
  },
  {
   "cell_type": "markdown",
   "id": "79040c95",
   "metadata": {},
   "source": [
    "# Dennis Ratings"
   ]
  },
  {
   "cell_type": "code",
   "execution_count": 3,
   "id": "3b09eb3a",
   "metadata": {},
   "outputs": [
    {
     "name": "stdout",
     "output_type": "stream",
     "text": [
      "Searched Movie: The Transporter Refueled\n"
     ]
    },
    {
     "data": {
      "text/html": [
       "<div>\n",
       "<style scoped>\n",
       "    .dataframe tbody tr th:only-of-type {\n",
       "        vertical-align: middle;\n",
       "    }\n",
       "\n",
       "    .dataframe tbody tr th {\n",
       "        vertical-align: top;\n",
       "    }\n",
       "\n",
       "    .dataframe thead th {\n",
       "        text-align: right;\n",
       "    }\n",
       "</style>\n",
       "<table border=\"1\" class=\"dataframe\">\n",
       "  <thead>\n",
       "    <tr style=\"text-align: right;\">\n",
       "      <th></th>\n",
       "      <th>Recommendation</th>\n",
       "      <th>Rating</th>\n",
       "    </tr>\n",
       "  </thead>\n",
       "  <tbody>\n",
       "    <tr>\n",
       "      <th>0</th>\n",
       "      <td>Evil Behind You</td>\n",
       "      <td>Interesting</td>\n",
       "    </tr>\n",
       "    <tr>\n",
       "      <th>1</th>\n",
       "      <td>Shooters</td>\n",
       "      <td>Top</td>\n",
       "    </tr>\n",
       "    <tr>\n",
       "      <th>2</th>\n",
       "      <td>Dream Machine</td>\n",
       "      <td>Not Interesting</td>\n",
       "    </tr>\n",
       "    <tr>\n",
       "      <th>3</th>\n",
       "      <td>Convoy Busters</td>\n",
       "      <td>Not Interesting</td>\n",
       "    </tr>\n",
       "    <tr>\n",
       "      <th>4</th>\n",
       "      <td>Kite</td>\n",
       "      <td>Interesting</td>\n",
       "    </tr>\n",
       "    <tr>\n",
       "      <th>5</th>\n",
       "      <td>Bad Boys for Life</td>\n",
       "      <td>Top</td>\n",
       "    </tr>\n",
       "    <tr>\n",
       "      <th>6</th>\n",
       "      <td>One Way Out</td>\n",
       "      <td>Not Interesting</td>\n",
       "    </tr>\n",
       "    <tr>\n",
       "      <th>7</th>\n",
       "      <td>Outlaw: Goro the Assassin</td>\n",
       "      <td>Not Interesting</td>\n",
       "    </tr>\n",
       "    <tr>\n",
       "      <th>8</th>\n",
       "      <td>Outlaw: Black Dagger</td>\n",
       "      <td>Not Interesting</td>\n",
       "    </tr>\n",
       "    <tr>\n",
       "      <th>9</th>\n",
       "      <td>Operações Especiais</td>\n",
       "      <td>Interesting</td>\n",
       "    </tr>\n",
       "  </tbody>\n",
       "</table>\n",
       "</div>"
      ],
      "text/plain": [
       "              Recommendation           Rating\n",
       "0            Evil Behind You      Interesting\n",
       "1                   Shooters              Top\n",
       "2              Dream Machine  Not Interesting\n",
       "3             Convoy Busters  Not Interesting\n",
       "4                       Kite      Interesting\n",
       "5          Bad Boys for Life              Top\n",
       "6                One Way Out  Not Interesting\n",
       "7  Outlaw: Goro the Assassin  Not Interesting\n",
       "8       Outlaw: Black Dagger  Not Interesting\n",
       "9        Operações Especiais      Interesting"
      ]
     },
     "execution_count": 3,
     "metadata": {},
     "output_type": "execute_result"
    }
   ],
   "source": [
    "# which movie did you search for\n",
    "print(\"Searched Movie: The Transporter Refueled\")\n",
    "\n",
    "# initialize data\n",
    "data = [['Evil Behind You', 'Interesting'], ['Shooters', 'Top'], ['Dream Machine', 'Not Interesting'], ['Convoy Busters', 'Not Interesting'], ['Kite', 'Interesting'], ['Bad Boys for Life', 'Top'], ['One Way Out', 'Not Interesting'], ['Outlaw: Goro the Assassin', 'Not Interesting'], ['Outlaw: Black Dagger', 'Not Interesting'], ['Operações Especiais', 'Interesting']]\n",
    "  \n",
    "# create dataframe\n",
    "df = pd.DataFrame(data, columns = ['Recommendation', 'Rating'])\n",
    "  \n",
    "# print dataframe\n",
    "df"
   ]
  },
  {
   "cell_type": "markdown",
   "id": "feeab04c",
   "metadata": {},
   "source": [
    "# Tobias Ratings"
   ]
  },
  {
   "cell_type": "code",
   "execution_count": 4,
   "id": "aee74525",
   "metadata": {},
   "outputs": [
    {
     "name": "stdout",
     "output_type": "stream",
     "text": [
      "Searched Movie: Ice Age: The Great Egg-Scapade\n"
     ]
    },
    {
     "data": {
      "text/html": [
       "<div>\n",
       "<style scoped>\n",
       "    .dataframe tbody tr th:only-of-type {\n",
       "        vertical-align: middle;\n",
       "    }\n",
       "\n",
       "    .dataframe tbody tr th {\n",
       "        vertical-align: top;\n",
       "    }\n",
       "\n",
       "    .dataframe thead th {\n",
       "        text-align: right;\n",
       "    }\n",
       "</style>\n",
       "<table border=\"1\" class=\"dataframe\">\n",
       "  <thead>\n",
       "    <tr style=\"text-align: right;\">\n",
       "      <th></th>\n",
       "      <th>Recommendation</th>\n",
       "      <th>Rating</th>\n",
       "    </tr>\n",
       "  </thead>\n",
       "  <tbody>\n",
       "    <tr>\n",
       "      <th>0</th>\n",
       "      <td>Ice Age: Continental Drift</td>\n",
       "      <td>Top</td>\n",
       "    </tr>\n",
       "    <tr>\n",
       "      <th>1</th>\n",
       "      <td>Ice Age: A Mammoth Christmas</td>\n",
       "      <td>Top</td>\n",
       "    </tr>\n",
       "    <tr>\n",
       "      <th>2</th>\n",
       "      <td>Ice Age: Collision Course</td>\n",
       "      <td>Interesting</td>\n",
       "    </tr>\n",
       "    <tr>\n",
       "      <th>3</th>\n",
       "      <td>Cosmic Scrat-tastrophe</td>\n",
       "      <td>Not Interesting</td>\n",
       "    </tr>\n",
       "    <tr>\n",
       "      <th>4</th>\n",
       "      <td>Ice Age</td>\n",
       "      <td>Top</td>\n",
       "    </tr>\n",
       "    <tr>\n",
       "      <th>5</th>\n",
       "      <td>Scrat's Continental Crack-Up: Part 2</td>\n",
       "      <td>Interesting</td>\n",
       "    </tr>\n",
       "    <tr>\n",
       "      <th>6</th>\n",
       "      <td>Ice Age: The Melt Down</td>\n",
       "      <td>Top</td>\n",
       "    </tr>\n",
       "    <tr>\n",
       "      <th>7</th>\n",
       "      <td>Ice Age: Dawn of the Dinosaurs</td>\n",
       "      <td>Top</td>\n",
       "    </tr>\n",
       "    <tr>\n",
       "      <th>8</th>\n",
       "      <td>No Time for Nuts</td>\n",
       "      <td>Interesting</td>\n",
       "    </tr>\n",
       "    <tr>\n",
       "      <th>9</th>\n",
       "      <td>Superstar Goofy</td>\n",
       "      <td>Not Interesting</td>\n",
       "    </tr>\n",
       "  </tbody>\n",
       "</table>\n",
       "</div>"
      ],
      "text/plain": [
       "                         Recommendation           Rating\n",
       "0            Ice Age: Continental Drift              Top\n",
       "1          Ice Age: A Mammoth Christmas              Top\n",
       "2             Ice Age: Collision Course      Interesting\n",
       "3                Cosmic Scrat-tastrophe  Not Interesting\n",
       "4                               Ice Age              Top\n",
       "5  Scrat's Continental Crack-Up: Part 2      Interesting\n",
       "6                Ice Age: The Melt Down              Top\n",
       "7        Ice Age: Dawn of the Dinosaurs              Top\n",
       "8                      No Time for Nuts      Interesting\n",
       "9                       Superstar Goofy  Not Interesting"
      ]
     },
     "execution_count": 4,
     "metadata": {},
     "output_type": "execute_result"
    }
   ],
   "source": [
    "# which movie did you search for\n",
    "print(\"Searched Movie: Ice Age: The Great Egg-Scapade\")\n",
    "\n",
    "# initialize data\n",
    "data = [['Ice Age: Continental Drift', 'Top'], ['Ice Age: A Mammoth Christmas', 'Top'], ['Ice Age: Collision Course', 'Interesting'], ['Cosmic Scrat-tastrophe', 'Not Interesting'], ['Ice Age', 'Top'], ['Scrat\\'s Continental Crack-Up: Part 2', 'Interesting'], ['Ice Age: The Melt Down', 'Top'], ['Ice Age: Dawn of the Dinosaurs', 'Top'], ['No Time for Nuts', 'Interesting'], ['Superstar Goofy', 'Not Interesting']]\n",
    "  \n",
    "# create dataframe\n",
    "df = pd.DataFrame(data, columns = ['Recommendation', 'Rating'])\n",
    "  \n",
    "# print dataframe\n",
    "df"
   ]
  },
  {
   "cell_type": "markdown",
   "id": "fce86330",
   "metadata": {},
   "source": [
    "# General Overview\n",
    "This overview contains all ratings. Every person searched for five movies and received ten dependent recommendations. Doubled results (e.g. mistakes in dataset) were removed."
   ]
  },
  {
   "cell_type": "code",
   "execution_count": 31,
   "id": "f97f147d",
   "metadata": {},
   "outputs": [
    {
     "data": {
      "image/png": "[encoded data removed]",
      "text/plain": [
       "<Figure size 1080x576 with 1 Axes>"
      ]
     },
     "metadata": {
      "needs_background": "light"
     },
     "output_type": "display_data"
    }
   ],
   "source": [
    "import pandas as pd\n",
    "import matplotlib.pyplot as plt\n",
    "\n",
    "# import csv-file\n",
    "df = pd.read_csv('rating-overview.csv', sep=';')\n",
    "\n",
    "# set columns\n",
    "df.pivot(index='Name', columns='Rating', values='Quantity').plot(kind='bar', figsize=(15,8))\n",
    "\n",
    "# styling\n",
    "plt.xlabel('')\n",
    "plt.ylabel('Ratings')\n",
    "plt.title('Personal Ratings Overview')\n",
    "plt.legend(loc='upper left')\n",
    "plt.show()"
   ]
  },
  {
   "cell_type": "markdown",
   "id": "8dbcc8af",
   "metadata": {},
   "source": [
    "# Approval Ratings\n",
    "The following Figure shows every approval of every recommendation. Every line represents a persons individual rating in percent."
   ]
  },
  {
   "cell_type": "code",
   "execution_count": 16,
   "id": "67e09a98",
   "metadata": {},
   "outputs": [
    {
     "data": {
      "text/plain": [
       "Text(0, 0.5, 'Approval in percent')"
      ]
     },
     "execution_count": 16,
     "metadata": {},
     "output_type": "execute_result"
    },
    {
     "data": {
      "image/png": "[encoded data removed]",
      "text/plain": [
       "<Figure size 432x288 with 1 Axes>"
      ]
     },
     "metadata": {
      "needs_background": "light"
     },
     "output_type": "display_data"
    }
   ],
   "source": [
    "import pandas as pd\n",
    "\n",
    "# create dataframe\n",
    "df = pd.DataFrame({\n",
    "   'Arthur': [56, 33, 100, 22, 50],\n",
    "   'Dennis': [40, 60, 80, 50, 78],\n",
    "   'Tobias': [22, 50, 80, 40, 30]\n",
    "   }, index=['1', '2', '3', '4', '5'])\n",
    "\n",
    "# plot and style dataframe\n",
    "lines = df.plot.line()\n",
    "lines.set_xlabel('Quantity of recommendations')\n",
    "lines.set_ylabel('Approval in percent')"
   ]
  },
  {
   "cell_type": "code",
   "execution_count": null,
   "id": "e218642a",
   "metadata": {},
   "outputs": [],
   "source": []
  }
 ],
 "metadata": {
  "kernelspec": {
   "display_name": "Python 3",
   "language": "python",
   "name": "python3"
  },
  "language_info": {
   "codemirror_mode": {
    "name": "ipython",
    "version": 3
   },
   "file_extension": ".py",
   "mimetype": "text/x-python",
   "name": "python",
   "nbconvert_exporter": "python",
   "pygments_lexer": "ipython3",
   "version": "3.9.4"
  }
 },
 "nbformat": 4,
 "nbformat_minor": 5
}
