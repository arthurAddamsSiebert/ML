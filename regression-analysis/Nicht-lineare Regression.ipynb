{
 "cells": [
  {
   "cell_type": "code",
   "execution_count": 5,
   "metadata": {},
   "outputs": [],
   "source": [
    "import pandas as pd"
   ]
  },
  {
   "cell_type": "code",
   "execution_count": 6,
   "metadata": {},
   "outputs": [],
   "source": [
    "# Datensatz der Ratings über Pandas laden\n",
    "dataset = pd.read_csv(\"ratings_small.csv\")"
   ]
  },
  {
   "cell_type": "markdown",
   "metadata": {},
   "source": [
    "# Lineare Regressionsanalyse\n",
    "#### Imports"
   ]
  },
  {
   "cell_type": "code",
   "execution_count": 7,
   "metadata": {},
   "outputs": [],
   "source": [
    "from sklearn.metrics import mean_squared_error, mean_absolute_error, r2_score\n",
    "from sklearn import datasets, linear_model, model_selection\n",
    "from sklearn.pipeline import Pipeline\n",
    "from sklearn.preprocessing import PolynomialFeatures\n",
    "import time\n",
    "import datetime\n",
    "import matplotlib.pyplot as plt\n",
    "import numpy as np"
   ]
  },
  {
   "cell_type": "markdown",
   "metadata": {},
   "source": [
    "#### Datenaufbereitung"
   ]
  },
  {
   "cell_type": "code",
   "execution_count": 8,
   "metadata": {},
   "outputs": [],
   "source": [
    "# Deklaration der zu befüllenden Arrays\n",
    "ratings_X = np.empty(shape=[0, 1])\n",
    "ratings_Y = np.empty(shape=[0, 1])\n",
    "\n",
    "# Datenaufbereitung\n",
    "for index, row in dataset.iterrows():\n",
    "    ratings_X = np.append(ratings_X, [[row['timestamp']]], 0)\n",
    "    ratings_Y = np.append(ratings_Y, [[row['rating']]], 0)\n",
    "    \n",
    "    \n",
    "    \n"
   ]
  },
  {
   "cell_type": "code",
   "execution_count": 9,
   "metadata": {},
   "outputs": [],
   "source": [
    "# Letzte 150 Einträge zum Testen in separates Array\n",
    "ratings_X_test = ratings_X[-150:]\n",
    "ratings_Y_test = ratings_Y[-150:]\n",
    "\n",
    "# Restliche Einträge zum Berechnen der Regressionsgerade in separates Array\n",
    "ratings_X_train = ratings_X[:-150]\n",
    "ratings_Y_train = ratings_Y[:-150]"
   ]
  },
  {
   "cell_type": "markdown",
   "metadata": {},
   "source": [
    "#### Regression"
   ]
  },
  {
   "cell_type": "code",
   "execution_count": 10,
   "metadata": {},
   "outputs": [],
   "source": [
    "# Setzen der Polynomial-Features\n",
    "poly_features = PolynomialFeatures(degree=2)\n",
    "\n",
    "# Vorbereiten der Polynomialen Regression\n",
    "regr = linear_model.LinearRegression()\n",
    "pipeline = Pipeline([(\"polynomial_features\", poly_features),\n",
    "                     (\"linear_regression\", regr)])\n",
    "pipeline.fit(ratings_X_train, ratings_Y_train)\n",
    "\n",
    "# Ausführen der Polynomialen Regression\n",
    "ratings_Y_vorsage = pipeline.predict(ratings_X_test)\n",
    "ratings_Y_vorsage_train = pipeline.predict(ratings_X_train)"
   ]
  },
  {
   "cell_type": "markdown",
   "metadata": {},
   "source": [
    "# Plotten"
   ]
  },
  {
   "cell_type": "code",
   "execution_count": 12,
   "metadata": {},
   "outputs": [
    {
     "data": {
      "image/png": "[encoded data removed]",
      "text/plain": [
       "<Figure size 432x288 with 1 Axes>"
      ]
     },
     "metadata": {
      "needs_background": "light"
     },
     "output_type": "display_data"
    }
   ],
   "source": [
    "%matplotlib inline\n",
    "\n",
    "# Plotten der Datenpunkte\n",
    "plt.scatter(ratings_X, ratings_Y, 2.5, color='black', alpha=1)\n",
    "\n",
    "# Plotten der Regressionsgerade der Trainingsdaten in gelb\n",
    "plt.plot(ratings_X_train, ratings_Y_vorsage_train, color='yellow', linewidth=2.5)\n",
    "\n",
    "# Plotten der Vorhersage in blau\n",
    "plt.plot(ratings_X_test, ratings_Y_vorsage, color='blue', linewidth=2.5)\n",
    "\n",
    "# Wertebereich anpassen\n",
    "plt.xlim(min(ratings_X),max(ratings_X))\n",
    "plt.ylim(min(ratings_Y_vorsage_train),max(ratings_Y))\n",
    "\n",
    "# Achsenbeschriftung\n",
    "plt.ylabel(\"Bewertung\")\n",
    "plt.xlabel(\"Zeit\")\n",
    "\n",
    "# Ausgabe des Plots\n",
    "plt.show()"
   ]
  },
  {
   "cell_type": "markdown",
   "metadata": {},
   "source": [
    "#### Bestimmtheitsmaß"
   ]
  },
  {
   "cell_type": "code",
   "execution_count": 13,
   "metadata": {},
   "outputs": [
    {
     "name": "stdout",
     "output_type": "stream",
     "text": [
      "R^2: 0.002\n"
     ]
    }
   ],
   "source": [
    "print(\"R^2: %.3f\" % (r2_score(ratings_Y_train, ratings_Y_vorsage_train)))"
   ]
  },
  {
   "cell_type": "markdown",
   "metadata": {},
   "source": [
    "# Fazit\n",
    "## Datensatz ist nicht dafür zu gebrauchen, nicht für diesen Anwendungsfall!!!!!!!!!!!!!\n"
   ]
  }
 ],
 "metadata": {
  "kernelspec": {
   "display_name": "Python 3",
   "language": "python",
   "name": "python3"
  },
  "language_info": {
   "codemirror_mode": {
    "name": "ipython",
    "version": 3
   },
   "file_extension": ".py",
   "mimetype": "text/x-python",
   "name": "python",
   "nbconvert_exporter": "python",
   "pygments_lexer": "ipython3",
   "version": "3.8.5"
  }
 },
 "nbformat": 4,
 "nbformat_minor": 4
}
